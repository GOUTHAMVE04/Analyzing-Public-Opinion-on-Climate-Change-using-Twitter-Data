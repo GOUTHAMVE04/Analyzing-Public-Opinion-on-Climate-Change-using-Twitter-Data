{
  "nbformat": 4,
  "nbformat_minor": 0,
  "metadata": {
    "colab": {
      "provenance": []
    },
    "kernelspec": {
      "name": "python3",
      "display_name": "Python 3"
    },
    "language_info": {
      "name": "python"
    }
  },
  "cells": [
    {
      "cell_type": "code",
      "execution_count": 1,
      "metadata": {
        "id": "Unp7MAbftw51"
      },
      "outputs": [],
      "source": [
        "import pandas as pd\n"
      ]
    },
    {
      "cell_type": "code",
      "source": [
        "df=pd.read_csv('/content/twitter_sentiment_data.csv')\n"
      ],
      "metadata": {
        "id": "YpZ7QJsmuFlS"
      },
      "execution_count": 3,
      "outputs": []
    },
    {
      "cell_type": "code",
      "source": [
        "print(df.info())"
      ],
      "metadata": {
        "colab": {
          "base_uri": "https://localhost:8080/"
        },
        "id": "y8laynqQuRTT",
        "outputId": "d672a21f-3790-4a26-dfe0-3a2d4025fa90"
      },
      "execution_count": 4,
      "outputs": [
        {
          "output_type": "stream",
          "name": "stdout",
          "text": [
            "<class 'pandas.core.frame.DataFrame'>\n",
            "RangeIndex: 43943 entries, 0 to 43942\n",
            "Data columns (total 3 columns):\n",
            " #   Column     Non-Null Count  Dtype \n",
            "---  ------     --------------  ----- \n",
            " 0   sentiment  43943 non-null  int64 \n",
            " 1   message    43943 non-null  object\n",
            " 2   tweetid    43943 non-null  int64 \n",
            "dtypes: int64(2), object(1)\n",
            "memory usage: 1.0+ MB\n",
            "None\n"
          ]
        }
      ]
    },
    {
      "cell_type": "code",
      "source": [
        "print(df.head())"
      ],
      "metadata": {
        "colab": {
          "base_uri": "https://localhost:8080/"
        },
        "id": "LQPzyNQNuW1Y",
        "outputId": "305229a3-3493-45c0-ba09-b9eeecc99eb9"
      },
      "execution_count": 16,
      "outputs": [
        {
          "output_type": "stream",
          "name": "stdout",
          "text": [
            "   sentiment                                            message  \\\n",
            "0         -1  @tiniebeany climate change is an interesting h...   \n",
            "1          1  RT @NatGeoChannel: Watch #BeforeTheFlood right...   \n",
            "2          1  Fabulous! Leonardo #DiCaprio's film on #climat...   \n",
            "3          1  RT @Mick_Fanning: Just watched this amazing do...   \n",
            "4          2  RT @cnalive: Pranita Biswasi, a Lutheran from ...   \n",
            "\n",
            "              tweetid  \n",
            "0  792927353886371840  \n",
            "1  793124211518832641  \n",
            "2  793124402388832256  \n",
            "3  793124635873275904  \n",
            "4  793125156185137153  \n"
          ]
        }
      ]
    },
    {
      "cell_type": "code",
      "source": [
        "print(df.describe())"
      ],
      "metadata": {
        "colab": {
          "base_uri": "https://localhost:8080/"
        },
        "id": "z_slvumwvq3x",
        "outputId": "65084bd4-7806-4d63-9479-f98d9353fac3"
      },
      "execution_count": 14,
      "outputs": [
        {
          "output_type": "stream",
          "name": "stdout",
          "text": [
            "          sentiment       tweetid\n",
            "count  43943.000000  4.394300e+04\n",
            "mean       0.853924  8.367966e+17\n",
            "std        0.853543  8.568506e+16\n",
            "min       -1.000000  5.926334e+17\n",
            "25%        0.000000  7.970376e+17\n",
            "50%        1.000000  8.402301e+17\n",
            "75%        1.000000  9.020003e+17\n",
            "max        2.000000  9.667024e+17\n"
          ]
        }
      ]
    },
    {
      "cell_type": "code",
      "source": [
        "print(df.isnull().sum())\n"
      ],
      "metadata": {
        "colab": {
          "base_uri": "https://localhost:8080/"
        },
        "id": "vcDmyjFsvXb6",
        "outputId": "85269e06-8a68-4ad1-df3f-fda58a02d4a5"
      },
      "execution_count": 13,
      "outputs": [
        {
          "output_type": "stream",
          "name": "stdout",
          "text": [
            "sentiment    0\n",
            "message      0\n",
            "tweetid      0\n",
            "dtype: int64\n"
          ]
        }
      ]
    }
  ]
}